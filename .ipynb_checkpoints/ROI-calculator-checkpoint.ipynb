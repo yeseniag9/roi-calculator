{
 "cells": [
  {
   "cell_type": "code",
   "execution_count": 77,
   "id": "6a1edeed",
   "metadata": {},
   "outputs": [],
   "source": [
    "class RentalProperty():\n",
    "    \n",
    "    def __init__(self, incomes, expenses, investments):\n",
    "        self.incomes = incomes\n",
    "        self.expenses = expenses\n",
    "        self.investments = investments\n",
    "    \n",
    "    def calculateIncome(self):\n",
    "        main_income = int(input(\"What is your montly rental income? \"))\n",
    "        self.incomes.append(main_income)\n",
    "        \n",
    "        response = input(\"Do you have any other monthly incomes to account for? \")\n",
    "        \n",
    "        if response.lower() == 'yes':\n",
    "            other_income = int(input(\"Please enter the total amount of your other monthly incomes: \"))\n",
    "            self.incomes.append(other_income)\n",
    "            \n",
    "        global income_total\n",
    "        income_total = sum(self.incomes)\n",
    "        \n",
    "        return income_total\n",
    "        \n",
    "    def calculateExpenses(self):\n",
    "        tax_expense = int(input(\"What is your monthly tax expense? \"))\n",
    "        self.expenses.append(tax_expense)\n",
    "        \n",
    "        insurance_expense = int(input(\"What is your monthly insurance expense? \"))\n",
    "        self.expenses.append(insurance_expense)\n",
    "                    \n",
    "        response2 = input(\"Do you have monthly utility expenses? \")\n",
    "            \n",
    "        if response2.lower() == 'yes':\n",
    "            utility_expense = int(input(\"What is the total amount of your monthly utility expenses? \"))\n",
    "            self.expenses.append(utility_expense)\n",
    "            \n",
    "        response3 = input(\"Do you have any other monthly expenses to account for? \")\n",
    "        \n",
    "        if response3.lower() == 'yes':\n",
    "            other_expenses = int(input(\"Please enter the total amount of your other monthly expenses: \"))\n",
    "            self.expenses.append(other_expenses)   \n",
    "        \n",
    "        global expense_total\n",
    "        expense_total = sum(self.expenses)\n",
    "        \n",
    "        return expense_total\n",
    "    \n",
    "    def cashFlow(self):\n",
    "        global income_total\n",
    "        global expense_total\n",
    "        \n",
    "        global cash_flow\n",
    "        cash_flow = income_total - expense_total\n",
    "                \n",
    "    def calculateInvestments(self):\n",
    "        down_payment = int(input(\"What was the amount of your down payment? \"))\n",
    "        self.investments.append(down_payment)\n",
    "        \n",
    "        closing_costs = int(input(\"What was the amount of the closing costs? \"))\n",
    "        self.investments.append(closing_costs)\n",
    "        \n",
    "        rehab_budget = int(input(\"What, if any, was the amount of the rehab budget? \"))\n",
    "        self.investments.append(rehab_budget)\n",
    "        \n",
    "        response4 = input(\"Are there any other miscellaneous investments to be accounted for? \")\n",
    "            \n",
    "        if response4.lower() == 'yes':\n",
    "            other_investments = int(input(\"Please enter the total amount of your other investments: \"))\n",
    "            self.investments.append(other_investments)\n",
    "            \n",
    "        global investment_total \n",
    "        investment_total = sum(self.investments)\n",
    "        \n",
    "        return investment_total"
   ]
  },
  {
   "cell_type": "code",
   "execution_count": 83,
   "id": "3692a0e7",
   "metadata": {},
   "outputs": [
    {
     "name": "stdout",
     "output_type": "stream",
     "text": [
      "Would you like to calculate your property's ROI? yes\n",
      "What is your montly rental income? 2000\n",
      "Do you have any other monthly incomes to account for? no\n",
      "What is your monthly tax expense? 150\n",
      "What is your monthly insurance expense? 100\n",
      "Do you have monthly utility expenses? no\n",
      "Do you have any other monthly expenses to account for? yes\n",
      "Please enter the total amount of your other monthly expenses: 1360\n",
      "What was the amount of your down payment? 40000\n",
      "What was the amount of the closing costs? 3000\n",
      "What, if any, was the amount of the rehab budget? 7000\n",
      "Are there any other miscellaneous investments to be accounted for? no\n"
     ]
    },
    {
     "data": {
      "text/plain": [
       "0.0936"
      ]
     },
     "execution_count": 83,
     "metadata": {},
     "output_type": "execute_result"
    }
   ],
   "source": [
    "rental_property = RentalProperty([], [], [])\n",
    "\n",
    "def run_calculation():\n",
    "    while True:\n",
    "        response5 = input(\"Would you like to calculate your property's ROI? \")\n",
    "        \n",
    "        if response5.lower() == 'yes':\n",
    "            rental_property.calculateIncome()\n",
    "            rental_property.calculateExpenses()\n",
    "            rental_property.cashFlow()\n",
    "            rental_property.calculateInvestments()\n",
    "            \n",
    "            annual_cashFlow = cash_flow * 12 \n",
    "            \n",
    "            global investment_total\n",
    "            ROI = annual_cashFlow / investment_total\n",
    "            \n",
    "            return ROI\n",
    "        else:\n",
    "            break\n",
    "\n",
    "run_calculation()"
   ]
  }
 ],
 "metadata": {
  "kernelspec": {
   "display_name": "Python 3 (ipykernel)",
   "language": "python",
   "name": "python3"
  },
  "language_info": {
   "codemirror_mode": {
    "name": "ipython",
    "version": 3
   },
   "file_extension": ".py",
   "mimetype": "text/x-python",
   "name": "python",
   "nbconvert_exporter": "python",
   "pygments_lexer": "ipython3",
   "version": "3.9.12"
  }
 },
 "nbformat": 4,
 "nbformat_minor": 5
}
